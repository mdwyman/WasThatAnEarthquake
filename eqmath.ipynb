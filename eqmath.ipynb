{
 "cells": [
  {
   "cell_type": "markdown",
   "metadata": {},
   "source": [
    "# WasThatAnEarthquake Maths\n",
    "\n",
    "Javascript is used to calculate the distances, magnitudes and relative graphics sizes to confirm if it was an earthquake felt by the user. This repo contains the Javascript used in [WasThatAnEarthquake](https://wasthatanearthquake.net).  The purpose of the site is to determine if there was a perceptible earthquake in the last 15 minutes at the users location. There also a google map of the users location and all earthquakes of magnitude greater than 1.0 in the last 24 hours broken into three groups: \"Last 15 minutes\", \"Last hour\", \"Last day\".  Circles representing each earthquake have radii related to the magnitude of that particular event:\n",
    "\n",
    "$$radius = 2^{M-1}$$\n",
    "\n",
    "Where is M is the magnitude of the earthquake as reported by the USGS\n",
    "\n",
    "## Magnitudes\n",
    "\n",
    "An estimate of the magnitude at the users location for all earthquakes in the last 15 minutes is calculated using USGS's predicted distance attenuation (PDA) function.  The USGS provides PDA’s for the eastern and western U.S. both are calculated and used as upper and lower bounds, respectively.  \n",
    "\n",
    "The upper bound or eastern U.S. equation:\n",
    "\n",
    "$$M_{eastern}\\ =\\ 1.60\\ +1.29*M\\ -\\ 0.00051*L - 2.16*log_{10}L$$\n",
    "\n",
    "Where L the chordal distance between the user and the earthquake epicenter.  The lower bound or western U.S. equation:\n",
    "\n",
    "$$M_{western}\\ =\\ 1.15\\ +1.01*M\\ -\\ 0.00054*L - 1.72*log_{10}L$$\n",
    "\n",
    "\n",
    "## Chordal distances\n",
    "\n",
    "The chordal distance is calculated:\n",
    "\n",
    "$$L\\ = \\frac{R_{earth}}{1000.0}\\sqrt{2 * (1 - sin(\\theta_1) * sin(\\theta_2) * (cos(\\phi_1) * cos(\\phi_2) + sin(\\phi_1) * sin(\\phi_2)) - cos(|theta_1) * cos(\\theta_2)}$$\n",
    "\n",
    "Where $\\theta_1$ is the user's latitude (transformed):\n",
    "\n",
    "$$\\theta_1\\ =\\ (90 - Latitude_{user})*\\frac{\\pi}{180.0},$$ \n",
    "\n",
    "$\\theta_2$ is the earthquake's epicenter's latitude:\n",
    "\n",
    "$$\\theta_2\\ =\\ (90 - Latitude_{EQ})*\\frac{\\pi}{180.0},$$\n",
    "\n",
    "$\\phi_1$ is the user's longitude:\n",
    "\n",
    "$$\\phi_1\\ =\\ (Longitude_{user} + 180)\\frac{\\pi}{180.0},$$\n",
    "\n",
    "and $\\phi_2$ relates to the earthquake's epicenter's longitude:\n",
    "\n",
    "$$\\phi_2\\ =\\ (Longitude_{EQ} + 180)*\\frac{\\pi}{180.0}.$$ "
   ]
  },
  {
   "cell_type": "code",
   "execution_count": null,
   "metadata": {
    "collapsed": true
   },
   "outputs": [],
   "source": []
  }
 ],
 "metadata": {
  "kernelspec": {
   "display_name": "Python 3",
   "language": "python",
   "name": "python3"
  },
  "language_info": {
   "codemirror_mode": {
    "name": "ipython",
    "version": 3
   },
   "file_extension": ".py",
   "mimetype": "text/x-python",
   "name": "python",
   "nbconvert_exporter": "python",
   "pygments_lexer": "ipython3",
   "version": "3.5.1"
  }
 },
 "nbformat": 4,
 "nbformat_minor": 0
}
